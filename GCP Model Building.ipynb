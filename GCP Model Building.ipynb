{
 "cells": [
  {
   "cell_type": "markdown",
   "id": "6f742062",
   "metadata": {
    "id": "d465a2f4c0084790a32c4c21e0f7903d"
   },
   "source": [
    "# Google Cloud Platform Vertex AI - Model Building using the codelabs - https://codelabs.developers.google.com/vertex-cpr-sklearn?hl=en#0"
   ]
  },
  {
   "cell_type": "markdown",
   "id": "d3712374",
   "metadata": {
    "id": "2cdd4e287f9e44d88be0c1a2e34765d3"
   },
   "source": [
    "Install the required dependencies that are needed to build the model"
   ]
  },
  {
   "cell_type": "code",
   "execution_count": 1,
   "id": "f2572509-095b-422f-b733-c69494c9ea8e",
   "metadata": {
    "id": "99084ad3-09fa-4de4-a4d9-f326a8b8bd67"
   },
   "outputs": [
    {
     "name": "stdout",
     "output_type": "stream",
     "text": [
      "Overwriting requirements.txt\n"
     ]
    }
   ],
   "source": [
    "%%writefile requirements.txt\n",
    "fastapi\n",
    "uvicorn==0.17.6\n",
    "joblib~=1.0\n",
    "numpy~=1.20\n",
    "scikit-learn~=0.24\n",
    "pandas\n",
    "google-cloud-storage>=1.26.0,<2.0.0dev\n",
    "google-cloud-aiplatform[prediction]>=1.16.0"
   ]
  },
  {
   "cell_type": "markdown",
   "id": "2811242f",
   "metadata": {
    "id": "16c3a8e7fdc142a383ac01d8b76b68af"
   },
   "source": [
    "Pip install the dependencies in the notebook."
   ]
  },
  {
   "cell_type": "code",
   "execution_count": 2,
   "id": "f0621494-05dd-43ef-9948-c85add6ef832",
   "metadata": {
    "id": "1109b5c8-8bb3-4f55-abe1-2c6c68684811"
   },
   "outputs": [
    {
     "name": "stdout",
     "output_type": "stream",
     "text": [
      "Collecting fastapi (from -r requirements.txt (line 1))\n",
      "  Downloading fastapi-0.115.12-py3-none-any.whl.metadata (27 kB)\n",
      "Collecting uvicorn==0.17.6 (from -r requirements.txt (line 2))\n",
      "  Downloading uvicorn-0.17.6-py3-none-any.whl.metadata (6.2 kB)\n",
      "Collecting joblib~=1.0 (from -r requirements.txt (line 3))\n",
      "  Downloading joblib-1.5.1-py3-none-any.whl.metadata (5.6 kB)\n",
      "Requirement already satisfied: numpy~=1.20 in c:\\users\\anacarolineferreirar\\appdata\\local\\packages\\pythonsoftwarefoundation.python.3.12_qbz5n2kfra8p0\\localcache\\local-packages\\python312\\site-packages (from -r requirements.txt (line 4)) (1.26.2)\n",
      "Collecting numpy~=1.20 (from -r requirements.txt (line 4))\n",
      "  Downloading numpy-1.26.4-cp312-cp312-win_amd64.whl.metadata (61 kB)\n",
      "Collecting scikit-learn~=0.24 (from -r requirements.txt (line 5))\n",
      "  Downloading scikit-learn-0.24.2.tar.gz (7.5 MB)\n",
      "     ---------------------------------------- 0.0/7.5 MB ? eta -:--:--\n",
      "     ---------------------------------------- 0.0/7.5 MB ? eta -:--:--\n",
      "     - -------------------------------------- 0.3/7.5 MB ? eta -:--:--\n",
      "     ---- ----------------------------------- 0.8/7.5 MB 2.4 MB/s eta 0:00:03\n",
      "     --------- ------------------------------ 1.8/7.5 MB 3.6 MB/s eta 0:00:02\n",
      "     ---------------- ----------------------- 3.1/7.5 MB 4.4 MB/s eta 0:00:01\n",
      "     ----------------------------- ---------- 5.5/7.5 MB 6.0 MB/s eta 0:00:01\n",
      "     ---------------------------------------- 7.5/7.5 MB 6.7 MB/s eta 0:00:00\n",
      "  Installing build dependencies: started\n",
      "  Installing build dependencies: finished with status 'done'\n",
      "  Getting requirements to build wheel: started\n",
      "  Getting requirements to build wheel: finished with status 'done'\n",
      "  Preparing metadata (pyproject.toml): started\n",
      "  Preparing metadata (pyproject.toml): finished with status 'error'\n"
     ]
    },
    {
     "name": "stderr",
     "output_type": "stream",
     "text": [
      "  error: subprocess-exited-with-error\n",
      "  \n",
      "  × Preparing metadata (pyproject.toml) did not run successfully.\n",
      "  │ exit code: 1\n",
      "  ╰─> [20 lines of output]\n",
      "      <string>:17: UserWarning: pkg_resources is deprecated as an API. See https://setuptools.pypa.io/en/latest/pkg_resources.html. The pkg_resources package is slated for removal as early as 2025-11-30. Refrain from using this package or pin to Setuptools<81.\n",
      "      Partial import of sklearn during the build process.\n",
      "      Traceback (most recent call last):\n",
      "        File \"C:\\Users\\AnaCarolineFerreiraR\\AppData\\Local\\Packages\\PythonSoftwareFoundation.Python.3.12_qbz5n2kfra8p0\\LocalCache\\local-packages\\Python312\\site-packages\\pip\\_vendor\\pyproject_hooks\\_in_process\\_in_process.py\", line 389, in <module>\n",
      "          main()\n",
      "        File \"C:\\Users\\AnaCarolineFerreiraR\\AppData\\Local\\Packages\\PythonSoftwareFoundation.Python.3.12_qbz5n2kfra8p0\\LocalCache\\local-packages\\Python312\\site-packages\\pip\\_vendor\\pyproject_hooks\\_in_process\\_in_process.py\", line 373, in main\n",
      "          json_out[\"return_val\"] = hook(**hook_input[\"kwargs\"])\n",
      "                                   ^^^^^^^^^^^^^^^^^^^^^^^^^^^^\n",
      "        File \"C:\\Users\\AnaCarolineFerreiraR\\AppData\\Local\\Packages\\PythonSoftwareFoundation.Python.3.12_qbz5n2kfra8p0\\LocalCache\\local-packages\\Python312\\site-packages\\pip\\_vendor\\pyproject_hooks\\_in_process\\_in_process.py\", line 175, in prepare_metadata_for_build_wheel\n",
      "          return hook(metadata_directory, config_settings)\n",
      "                 ^^^^^^^^^^^^^^^^^^^^^^^^^^^^^^^^^^^^^^^^^\n",
      "        File \"C:\\Users\\AnaCarolineFerreiraR\\AppData\\Local\\Temp\\pip-build-env-u_iheigd\\overlay\\Lib\\site-packages\\setuptools\\build_meta.py\", line 374, in prepare_metadata_for_build_wheel\n",
      "          self.run_setup()\n",
      "        File \"C:\\Users\\AnaCarolineFerreiraR\\AppData\\Local\\Temp\\pip-build-env-u_iheigd\\overlay\\Lib\\site-packages\\setuptools\\build_meta.py\", line 512, in run_setup\n",
      "          super().run_setup(setup_script=setup_script)\n",
      "        File \"C:\\Users\\AnaCarolineFerreiraR\\AppData\\Local\\Temp\\pip-build-env-u_iheigd\\overlay\\Lib\\site-packages\\setuptools\\build_meta.py\", line 317, in run_setup\n",
      "          exec(code, locals())\n",
      "        File \"<string>\", line 301, in <module>\n",
      "        File \"<string>\", line 293, in setup_package\n",
      "      ModuleNotFoundError: No module named 'numpy.distutils'\n",
      "      [end of output]\n",
      "  \n",
      "  note: This error originates from a subprocess, and is likely not a problem with pip.\n",
      "error: metadata-generation-failed\n",
      "\n",
      "× Encountered error while generating package metadata.\n",
      "╰─> See above for output.\n",
      "\n",
      "note: This is an issue with the package mentioned above, not pip.\n",
      "hint: See above for details.\n"
     ]
    }
   ],
   "source": [
    "!pip install -U --user -r requirements.txt"
   ]
  },
  {
   "cell_type": "markdown",
   "id": "f299193a",
   "metadata": {
    "id": "595ace5117684c8a866d1674d794305d"
   },
   "source": [
    "Create the directories where the model artifacts are stored"
   ]
  },
  {
   "cell_type": "code",
   "execution_count": null,
   "id": "ceb08b49-8ba4-4f59-8c3e-c5f078377af0",
   "metadata": {
    "id": "c87a832b-8015-4923-9543-e0239779da21"
   },
   "outputs": [],
   "source": [
    "USER_SRC_DIR = \"src_dir\""
   ]
  },
  {
   "cell_type": "code",
   "execution_count": 3,
   "id": "fcc77354-182c-4e80-8ec0-54b10605b4c6",
   "metadata": {
    "id": "0d7b8e65-9573-4ebc-81db-39e69f3116d6"
   },
   "outputs": [],
   "source": [
    "!mkdir $USER_SRC_DIR"
   ]
  },
  {
   "cell_type": "code",
   "execution_count": 4,
   "id": "32e3d5df-0cda-4d82-a8ae-a0c2cc99400c",
   "metadata": {
    "id": "2aea6cac-34f4-4c5b-bedb-eadae47b67f6"
   },
   "outputs": [],
   "source": [
    "!mkdir model_artifacts"
   ]
  },
  {
   "cell_type": "code",
   "execution_count": 5,
   "id": "2a603b5d-41dc-41ca-b538-a6f1f88b5c6c",
   "metadata": {
    "id": "c69403e3-f9e3-4a53-8f36-981d95e1bbc2"
   },
   "outputs": [
    {
     "name": "stderr",
     "output_type": "stream",
     "text": [
      "'cp' is not recognized as an internal or external command,\n",
      "operable program or batch file.\n"
     ]
    }
   ],
   "source": [
    "# copy the requirements to the source dir\n",
    "!cp requirements.txt $USER_SRC_DIR/requirements.txt"
   ]
  },
  {
   "cell_type": "markdown",
   "id": "57e788e3",
   "metadata": {
    "id": "544512f40fcd49b5823958776f85e5b9"
   },
   "source": [
    "This would be a sklearn based model, import the necessary packages"
   ]
  },
  {
   "cell_type": "code",
   "execution_count": null,
   "id": "3c1c6197-ce14-4de9-974e-c0f48fb9573a",
   "metadata": {
    "id": "45980ae4-fe9f-4f1c-ac0b-8379955050bb"
   },
   "outputs": [],
   "source": [
    "import seaborn as sns\n",
    "import numpy as np\n",
    "import pandas as pd\n",
    "\n",
    "from sklearn import preprocessing\n",
    "from sklearn.ensemble import RandomForestRegressor\n",
    "from sklearn.pipeline import make_pipeline\n",
    "from sklearn.compose import make_column_transformer\n",
    "\n",
    "import joblib\n",
    "import logging\n",
    "\n",
    "# set logging to see the docker container logs\n",
    "logging.basicConfig(level=logging.INFO)"
   ]
  },
  {
   "cell_type": "markdown",
   "id": "9c3fe04d",
   "metadata": {
    "id": "86cdd55a2b954e919ee87488a3929db1"
   },
   "source": [
    "Identifiers to describe the model and the cloud storage bucket details."
   ]
  },
  {
   "cell_type": "code",
   "execution_count": null,
   "id": "0f066dbc-251a-443a-ab5a-86b71c74b179",
   "metadata": {
    "id": "26abb0e4-dde6-4296-a33e-e8024a4476b2"
   },
   "outputs": [],
   "source": [
    "REGION = \"us-central1\"\n",
    "MODEL_ARTIFACT_DIR = \"wos-sklearn-model-artifacts\"\n",
    "REPOSITORY = \"wos-diamonds\"\n",
    "IMAGE = \"wos-sklearn-image\"\n",
    "MODEL_DISPLAY_NAME = \"wos-diamonds-cpr\"\n",
    "\n",
    "# Replace with your project\n",
    "PROJECT_ID = \"driven-density-377506\"\n",
    "\n",
    "# Replace with your bucket\n",
    "BUCKET_NAME = \"gs://driven-density-xxxxx-wos-cpr-bucket\""
   ]
  },
  {
   "cell_type": "markdown",
   "id": "defa78a5",
   "metadata": {
    "id": "ad54f5de1dc1419793c617b2ab4a80ba"
   },
   "source": [
    "Load the data"
   ]
  },
  {
   "cell_type": "code",
   "execution_count": null,
   "id": "0679b41b-9966-4b06-9585-d8caacecfb38",
   "metadata": {
    "id": "bf486a31-a7db-4d9a-bec9-f0807f72d6bf"
   },
   "outputs": [],
   "source": [
    "data = sns.load_dataset('diamonds', cache=True, data_home=None)\n",
    "\n",
    "label = 'price'\n",
    "\n",
    "y_train = data['price']\n",
    "x_train = data.drop(columns=['price'])"
   ]
  },
  {
   "cell_type": "code",
   "execution_count": null,
   "id": "67cbfd01-938a-4edf-a75d-6ce6b980c1ad",
   "metadata": {
    "id": "c0f1f153-dd6e-463f-979c-c009c7d23f27"
   },
   "outputs": [],
   "source": [
    "x_train.head()"
   ]
  },
  {
   "cell_type": "code",
   "execution_count": null,
   "id": "d55c23da-32a4-4d4d-9eaa-30998d3011bf",
   "metadata": {
    "id": "dd495a45-f9e8-4e49-8b58-cc1a19f2aedc"
   },
   "outputs": [],
   "source": [
    "y_train.head()"
   ]
  },
  {
   "cell_type": "markdown",
   "id": "d11df927",
   "metadata": {
    "id": "2ca203d0c18f4a7085aa841d384d7af3"
   },
   "source": [
    "Column transformations - One hot encode the categorical features and scale the numerical features"
   ]
  },
  {
   "cell_type": "code",
   "execution_count": null,
   "id": "7b41bcdc-37b8-4ad5-9137-0e61b2fee48e",
   "metadata": {
    "id": "912b9237-08a3-4bd1-baf9-0ed719bac35d"
   },
   "outputs": [],
   "source": [
    "column_transform = make_column_transformer(\n",
    "    (preprocessing.OneHotEncoder(sparse=False), [1,2,3]),\n",
    "    (preprocessing.StandardScaler(), [0,4,5,6,7,8]))"
   ]
  },
  {
   "cell_type": "markdown",
   "id": "877b0c9e",
   "metadata": {
    "id": "e6ce8ce05d284ff1b88da38f353faf83"
   },
   "source": [
    "Create a RandomForestRegressor"
   ]
  },
  {
   "cell_type": "code",
   "execution_count": null,
   "id": "f169901e-dc8b-44c1-9450-f891751e0533",
   "metadata": {
    "id": "b5b77b52-4133-411f-b3de-ad23f095dd75"
   },
   "outputs": [],
   "source": [
    "regr = RandomForestRegressor(max_depth=10, random_state=0)"
   ]
  },
  {
   "cell_type": "markdown",
   "id": "a7fc2f5d",
   "metadata": {
    "id": "fb158119d41e4d999eb35429c0b66d7b"
   },
   "source": [
    "Create the model pipeline and fit it with the training data"
   ]
  },
  {
   "cell_type": "code",
   "execution_count": null,
   "id": "f882c64b-035c-4690-b2b0-bf2646f14b24",
   "metadata": {
    "id": "66d3f0b9-c4da-47c6-9efc-a8e3865e1a15"
   },
   "outputs": [],
   "source": [
    "my_pipeline = make_pipeline(column_transform, regr)"
   ]
  },
  {
   "cell_type": "code",
   "execution_count": null,
   "id": "b398662d-bc3e-4e41-8b49-02b73b27b83b",
   "metadata": {
    "id": "921e5f72-5ef5-4331-88db-6af48df7dad0"
   },
   "outputs": [],
   "source": [
    "my_pipeline.fit(x_train, y_train)"
   ]
  },
  {
   "cell_type": "markdown",
   "id": "78182ec9",
   "metadata": {
    "id": "fe7ae8f661ca4bb499ff28ff86c6fde3"
   },
   "source": [
    "Perform local predictions"
   ]
  },
  {
   "cell_type": "code",
   "execution_count": null,
   "id": "940489dd-f751-4ce0-8e07-08172246bf73",
   "metadata": {
    "id": "9a1519e2-9453-402a-9053-681fe5cb26a1"
   },
   "outputs": [],
   "source": [
    "my_pipeline.predict([[0.23, 'Ideal', 'E', 'SI2', 61.5, 55.0, 3.95, 3.98, 2.43]])"
   ]
  },
  {
   "cell_type": "markdown",
   "id": "344d6cc8",
   "metadata": {
    "id": "f444492979004d7f8534841500812507"
   },
   "source": [
    "Export the model pipeline to the artifacts folder"
   ]
  },
  {
   "cell_type": "code",
   "execution_count": null,
   "id": "746ae8e4-9066-4be4-95f1-4b6e9581cd56",
   "metadata": {
    "id": "f1d99456-ec87-431c-aaa1-109907d436cb"
   },
   "outputs": [],
   "source": [
    "joblib.dump(my_pipeline, 'model_artifacts/model.joblib')"
   ]
  },
  {
   "cell_type": "markdown",
   "id": "994f15a7",
   "metadata": {
    "id": "6498c8a2e46847db82c530ee1ec54b3f"
   },
   "source": [
    "Copy the model artifact the the cloud storage bucket"
   ]
  },
  {
   "cell_type": "code",
   "execution_count": null,
   "id": "691c5ce1-ad24-430c-9a40-1caced2b4a1e",
   "metadata": {
    "id": "0102f587-f072-4459-8882-b8f9ab72c0ac"
   },
   "outputs": [],
   "source": [
    "!gsutil cp model_artifacts/model.joblib {BUCKET_NAME}/{MODEL_ARTIFACT_DIR}/"
   ]
  },
  {
   "cell_type": "markdown",
   "id": "c17ab9b7",
   "metadata": {
    "id": "d6638d4b2ae74b1e81838a8442a0d58c"
   },
   "source": [
    "Define the pre-processing map for model inference"
   ]
  },
  {
   "cell_type": "code",
   "execution_count": null,
   "id": "48b51116-d2b3-4302-b739-fc4e22e4ff5e",
   "metadata": {
    "id": "f72d8e09-a37d-41e8-958c-77729f06afbe"
   },
   "outputs": [],
   "source": [
    "clarity_dict={\"Flawless\": \"FL\",\n",
    "              \"Internally Flawless\": \"IF\",\n",
    "              \"Very Very Slightly Included\": \"VVS1\",\n",
    "              \"Very Slightly Included\": \"VS2\",\n",
    "              \"Slightly Included\": \"S12\",\n",
    "              \"Included\": \"I3\"}"
   ]
  },
  {
   "cell_type": "code",
   "execution_count": null,
   "id": "ff776ea5-108b-42d7-8c96-7b90b47b8b21",
   "metadata": {
    "id": "b4ea4178-9cc9-41fd-8937-4046fa962f65"
   },
   "outputs": [],
   "source": [
    "import json\n",
    "with open(\"model_artifacts/preprocessor.json\", \"w\") as f:\n",
    "    json.dump(clarity_dict, f)"
   ]
  },
  {
   "cell_type": "code",
   "execution_count": null,
   "id": "d3463584-d2e4-4466-bc10-dc0b4d99eaab",
   "metadata": {
    "id": "cf5dd9ce-dea9-4009-af50-ae5bb61e554b"
   },
   "outputs": [],
   "source": [
    "!gsutil cp model_artifacts/preprocessor.json {BUCKET_NAME}/{MODEL_ARTIFACT_DIR}/"
   ]
  },
  {
   "cell_type": "markdown",
   "id": "998997a5",
   "metadata": {
    "id": "7d533693ed0645da8e19f1d567e05516"
   },
   "source": [
    "Define the Custom Prediction Routine to load the model, pre-process the data and post-process the scoring response to what the wrapping WML scoring endpoint and thereby OpenScale expects"
   ]
  },
  {
   "cell_type": "code",
   "execution_count": null,
   "id": "323bb0d5-f82b-4a45-8e9d-cbbb198b0714",
   "metadata": {
    "id": "7302f9ee-d11f-4ae0-a283-114dcc208efe"
   },
   "outputs": [],
   "source": [
    "%%writefile $USER_SRC_DIR/predictor.py\n",
    "\n",
    "import joblib\n",
    "import numpy as np\n",
    "import json\n",
    "\n",
    "from google.cloud import storage\n",
    "from google.cloud.aiplatform.prediction.sklearn.predictor import SklearnPredictor\n",
    "\n",
    "\n",
    "class CprPredictor(SklearnPredictor):\n",
    "\n",
    "    def __init__(self):\n",
    "        return\n",
    "\n",
    "    def load(self, artifacts_uri: str) -> None:\n",
    "        \"\"\"Loads the sklearn pipeline and preprocessing artifact.\"\"\"\n",
    "\n",
    "        super().load(artifacts_uri)\n",
    "\n",
    "        # open preprocessing artifact\n",
    "        with open(\"preprocessor.json\", \"rb\") as f:\n",
    "            self._preprocessor = json.load(f)\n",
    "\n",
    "\n",
    "    def preprocess(self, prediction_input: np.ndarray) -> np.ndarray:\n",
    "        \"\"\"Performs preprocessing by checking if clarity feature is in abbreviated form.\"\"\"\n",
    "\n",
    "        inputs = super().preprocess(prediction_input)\n",
    "\n",
    "        for sample in inputs:\n",
    "            if sample[3] not in self._preprocessor.values():\n",
    "                sample[3] = self._preprocessor[sample[3]]\n",
    "        return inputs\n",
    "\n",
    "    def postprocess(self, prediction_results: np.ndarray) -> dict:\n",
    "        \"\"\"Performs postprocessing by rounding predictions and converting to WML scoring format.\"\"\"\n",
    "        # return {\"predictions\": [f\"${value}\" for value in np.round(prediction_results)]}                                \n",
    "        return {\"predictions\": [{\"fields\":[\"prediction\"], \"values\":[[value] for value in np.round(prediction_results)]}]}"
   ]
  },
  {
   "cell_type": "markdown",
   "id": "f4f818fa",
   "metadata": {
    "id": "98a605f13ac447c4a7239ab96ce4bba9"
   },
   "source": [
    "Build the Custom Routine Predictor docker image"
   ]
  },
  {
   "cell_type": "code",
   "execution_count": null,
   "id": "6c32776c-7ff7-499e-9c27-ae235cc8abc6",
   "metadata": {
    "id": "ac748dff-1e4b-4ad4-ac4f-ff6884d2eacd"
   },
   "outputs": [],
   "source": [
    "from google.cloud import aiplatform\n",
    "\n",
    "aiplatform.init(project=PROJECT_ID, location=REGION)\n",
    "\n",
    "import os\n",
    "\n",
    "from google.cloud.aiplatform.prediction import LocalModel\n",
    "\n",
    "from src_dir.predictor import CprPredictor  # Should be path of variable $USER_SRC_DIR\n",
    "\n",
    "local_model = LocalModel.build_cpr_model(\n",
    "    USER_SRC_DIR,\n",
    "    f\"{REGION}-docker.pkg.dev/{PROJECT_ID}/{REPOSITORY}/{IMAGE}\",\n",
    "    predictor=CprPredictor,\n",
    "    requirements_path=os.path.join(USER_SRC_DIR, \"requirements.txt\"),\n",
    ")"
   ]
  },
  {
   "cell_type": "code",
   "execution_count": null,
   "id": "b1ffad86-ffb6-4f58-92b0-a9786c3f9f23",
   "metadata": {
    "id": "4d482118-d6ab-4f78-acf9-9a378b5e27a8"
   },
   "outputs": [],
   "source": [
    "import json\n",
    "\n",
    "sample = {\"instances\": [\n",
    "  [0.23, 'Ideal', 'E', 'VS2', 61.5, 55.0, 3.95, 3.98, 2.43],\n",
    "  [0.29, 'Premium', 'J', 'Internally Flawless', 52.5, 49.0, 4.00, 2.13, 3.11]]}\n",
    "\n",
    "with open('instances.json', 'w') as fp:\n",
    "    json.dump(sample, fp)"
   ]
  },
  {
   "cell_type": "markdown",
   "id": "fb88e840",
   "metadata": {
    "id": "4986e118dc0d4c2a821d2e2757c8e923"
   },
   "source": [
    "Make local predictions against the predictor routine"
   ]
  },
  {
   "cell_type": "code",
   "execution_count": null,
   "id": "308ace2d-bb18-4fc5-8c8d-d35b0a4d7934",
   "metadata": {
    "id": "49d85fca-d5e8-4d1d-8aa6-225462d1e112"
   },
   "outputs": [],
   "source": [
    "with local_model.deploy_to_local_endpoint(\n",
    "    artifact_uri = 'model_artifacts/', # local path to artifacts\n",
    ") as local_endpoint:\n",
    "    predict_response = local_endpoint.predict(\n",
    "        request_file='instances.json',\n",
    "        headers={\"Content-Type\": \"application/json\"},\n",
    "    )\n",
    "\n",
    "    health_check_response = local_endpoint.run_health_check()"
   ]
  },
  {
   "cell_type": "markdown",
   "id": "bec3bef5",
   "metadata": {
    "id": "756d5be7059242ba825798bf9216ce03"
   },
   "source": [
    "The scoring response.."
   ]
  },
  {
   "cell_type": "code",
   "execution_count": null,
   "id": "a036a3dc-3e47-4136-83b9-418ad3f3d62c",
   "metadata": {
    "id": "a12bfee1-9447-49f8-a79c-6c15e48ab39d"
   },
   "outputs": [],
   "source": [
    "predict_response.content"
   ]
  },
  {
   "cell_type": "code",
   "execution_count": null,
   "id": "fc900f11-8f9a-4a49-b789-2216b1e79bde",
   "metadata": {
    "id": "a5855f02-f1fc-4beb-b6e4-41a37d0ee20e"
   },
   "outputs": [],
   "source": [
    "REPOSITORY"
   ]
  },
  {
   "cell_type": "code",
   "execution_count": null,
   "id": "f0c4f475-fafd-4e68-9b4c-a25a966306c6",
   "metadata": {
    "id": "90c998e8-d53c-4bb9-a1f0-7ba4bc40df97"
   },
   "outputs": [],
   "source": [
    "!gcloud artifacts repositories create {REPOSITORY} --repository-format=docker --location=us-central1 --description=\"Docker repository\""
   ]
  },
  {
   "cell_type": "code",
   "execution_count": null,
   "id": "9d856114-cb09-418c-b33c-700b553b060d",
   "metadata": {
    "id": "b350bef2-74c1-4ab2-b57d-f8b1d4b3c9a1"
   },
   "outputs": [],
   "source": [
    "!gcloud auth configure-docker {REGION}-docker.pkg.dev --quiet"
   ]
  },
  {
   "cell_type": "markdown",
   "id": "214d1dae",
   "metadata": {
    "id": "6bd7ef3346714f0d85e210dadf3f08e8"
   },
   "source": [
    "Push the custom routine predictor docker image"
   ]
  },
  {
   "cell_type": "code",
   "execution_count": null,
   "id": "792c6b77-2312-4bd4-b057-c7fbd8720422",
   "metadata": {
    "id": "01c86276-b29b-481c-a72f-a6c8abc01cc8"
   },
   "outputs": [],
   "source": [
    "local_model.push_image()"
   ]
  },
  {
   "cell_type": "code",
   "execution_count": null,
   "id": "fce8a3a8-9858-4a98-9a53-3c155f1f3b58",
   "metadata": {
    "id": "ffafcb40-e695-45ea-b303-22d847896170"
   },
   "outputs": [],
   "source": [
    "MODEL_DISPLAY_NAME"
   ]
  },
  {
   "cell_type": "code",
   "execution_count": null,
   "id": "295c3552-12b6-4774-913b-80141ccdc1bf",
   "metadata": {
    "id": "99537717-5804-4400-95e5-5c3b41498143"
   },
   "outputs": [],
   "source": [
    "BUCKET_NAME"
   ]
  },
  {
   "cell_type": "code",
   "execution_count": null,
   "id": "13d01196-ec02-45d3-9d78-1618130e2900",
   "metadata": {
    "id": "81ae24e3-6691-4d23-968c-4eeb16102d45"
   },
   "outputs": [],
   "source": [
    "MODEL_ARTIFACT_DIR"
   ]
  },
  {
   "cell_type": "code",
   "execution_count": null,
   "id": "d6331170-6ffe-4a26-b407-bd53049ac21d",
   "metadata": {
    "id": "db473b90-b7bc-4286-b061-ceef1516dfd2"
   },
   "outputs": [],
   "source": [
    "model = aiplatform.Model.upload(local_model = local_model,\n",
    "                                display_name=MODEL_DISPLAY_NAME,\n",
    "                                artifact_uri=f\"{BUCKET_NAME}/{MODEL_ARTIFACT_DIR}\",)"
   ]
  },
  {
   "cell_type": "markdown",
   "id": "c978e217",
   "metadata": {
    "id": "71f38c4a614d412080ceda540c035058"
   },
   "source": [
    "Create an endpoint to the Custom Routine Predictor Image"
   ]
  },
  {
   "cell_type": "code",
   "execution_count": null,
   "id": "0e8e8cf3-fcb3-40ba-b6f4-168d94e9b2dd",
   "metadata": {
    "id": "5049688f-12f9-45e8-964f-cb0c5b3cbb16"
   },
   "outputs": [],
   "source": [
    "endpoint = model.deploy(machine_type=\"n1-standard-2\")"
   ]
  },
  {
   "cell_type": "markdown",
   "id": "17e37ade",
   "metadata": {
    "id": "c01ad585fe6e42eb836d074d507d0868"
   },
   "source": [
    "Perform scoring against the endpoint"
   ]
  },
  {
   "cell_type": "code",
   "execution_count": null,
   "id": "6b809938-7c62-4ade-9a5c-dbc86dc8f3ea",
   "metadata": {
    "id": "98375bfa-2487-4918-87b1-47fa1b839d14"
   },
   "outputs": [],
   "source": [
    "endpoint.predict(instances=[[0.23, 'Ideal', 'E', 'IF', 61.5, 55.0, 3.95, 3.98, 2.43], \n",
    "                            [0.32, 'Fair', 'E', 'VS2', 61.5, 55.0, 3.95, 3.98, 2.43],                     \n",
    "                            [0.39, 'Ideal', 'E', 'Very Very Slightly Included', 90.5, 55.0, 3.95, 3.98, 2.43],\n",
    "                            [0.39, 'Ideal', 'E', 'IF', 90.5, 55.0, 3.95, 3.98, 2.43]\n",
    "                           ])"
   ]
  },
  {
   "cell_type": "code",
   "execution_count": null,
   "id": "0dd7827d-626e-4e10-bfc1-572dbfb21971",
   "metadata": {
    "id": "cac1c0bf-cc90-4bd4-92c4-59bf61e75046"
   },
   "outputs": [],
   "source": [
    "endpoint.predict(instances=[[0.23, 'Ideal', 'E', 'IF', 61.5, 55.0, 3.95, 3.98, 2.43]\n",
    "                           ])"
   ]
  },
  {
   "cell_type": "code",
   "execution_count": null,
   "id": "ffe12dd9-fd89-4c56-bc70-1ff996b44a5d",
   "metadata": {
    "id": "a15864da-6c5f-4d95-8c37-8b5ddcfd2a8b"
   },
   "outputs": [],
   "source": []
  }
 ],
 "metadata": {
  "environment": {
   "kernel": "python3",
   "name": "common-cpu.m103",
   "type": "gcloud",
   "uri": "gcr.io/deeplearning-platform-release/base-cpu:m103"
  },
  "kernelspec": {
   "display_name": "Python 3",
   "language": "python",
   "name": "python3"
  },
  "language_info": {
   "codemirror_mode": {
    "name": "ipython",
    "version": 3
   },
   "file_extension": ".py",
   "mimetype": "text/x-python",
   "name": "python",
   "nbconvert_exporter": "python",
   "pygments_lexer": "ipython3",
   "version": "3.12.10"
  }
 },
 "nbformat": 4,
 "nbformat_minor": 5
}
